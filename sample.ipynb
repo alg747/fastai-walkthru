{
 "cells": [
  {
   "cell_type": "markdown",
   "id": "f6c409d1-62c9-499b-9153-2dddc0f10d64",
   "metadata": {},
   "source": [
    "# Walthru sample notebook"
   ]
  },
  {
   "cell_type": "markdown",
   "id": "e349d8d9-da67-4310-b84a-b1e7c2835d98",
   "metadata": {},
   "source": [
    "Here is how I calculate `1+1`: "
   ]
  },
  {
   "cell_type": "code",
   "execution_count": 1,
   "id": "fb5f5c30-99c3-4bf3-a6e3-35f4989f1781",
   "metadata": {},
   "outputs": [
    {
     "data": {
      "text/plain": [
       "2"
      ]
     },
     "execution_count": 1,
     "metadata": {},
     "output_type": "execute_result"
    }
   ],
   "source": [
    "1+1"
   ]
  },
  {
   "cell_type": "code",
   "execution_count": 2,
   "id": "c179b818-e13b-45dd-95b8-905e9432911a",
   "metadata": {},
   "outputs": [],
   "source": [
    "from numpy import *"
   ]
  },
  {
   "cell_type": "markdown",
   "id": "d50d84dc-97a4-4dfd-bbb3-e4e3af5f3f8d",
   "metadata": {},
   "source": [
    "Here is how I calculate `sin`:"
   ]
  },
  {
   "cell_type": "code",
   "execution_count": 3,
   "id": "871af349-8996-4dfd-bb3b-92f3a35a64c8",
   "metadata": {},
   "outputs": [
    {
     "data": {
      "text/plain": [
       "array([0.84147098, 1.        ])"
      ]
     },
     "execution_count": 3,
     "metadata": {},
     "output_type": "execute_result"
    }
   ],
   "source": [
    "a = array([1.0, pi/2])\n",
    "sin(a)"
   ]
  },
  {
   "cell_type": "code",
   "execution_count": null,
   "id": "22173629-6c84-4d78-8602-b756c1d30fe7",
   "metadata": {},
   "outputs": [],
   "source": []
  }
 ],
 "metadata": {
  "kernelspec": {
   "display_name": "Python 3 (ipykernel)",
   "language": "python",
   "name": "python3"
  },
  "language_info": {
   "codemirror_mode": {
    "name": "ipython",
    "version": 3
   },
   "file_extension": ".py",
   "mimetype": "text/x-python",
   "name": "python",
   "nbconvert_exporter": "python",
   "pygments_lexer": "ipython3",
   "version": "3.10.10"
  }
 },
 "nbformat": 4,
 "nbformat_minor": 5
}
