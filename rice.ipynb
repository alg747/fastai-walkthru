{
 "cells": [
  {
   "cell_type": "code",
   "execution_count": null,
   "id": "5d112537-a3b6-434b-9182-c808dc2cbe66",
   "metadata": {},
   "outputs": [],
   "source": [
    "from fastai.vision.all import *"
   ]
  },
  {
   "cell_type": "code",
   "execution_count": null,
   "id": "0ab26261-1de5-46c0-95ff-d09deba86edf",
   "metadata": {},
   "outputs": [],
   "source": [
    "Path.BASE_PATH = path = Path('../')/'paddy'\n",
    "trn_path = path/'train_images'"
   ]
  },
  {
   "cell_type": "code",
   "execution_count": null,
   "id": "1a2b57e6-5e06-4197-a827-80050db970a9",
   "metadata": {},
   "outputs": [],
   "source": [
    "path.ls()"
   ]
  },
  {
   "cell_type": "code",
   "execution_count": null,
   "id": "14906769-88e5-4be0-b8ce-92432b6df5b9",
   "metadata": {},
   "outputs": [],
   "source": [
    "trn_path.ls()"
   ]
  },
  {
   "cell_type": "code",
   "execution_count": null,
   "id": "9ea762cc-348b-4d4c-bbdb-deb4c30bec09",
   "metadata": {},
   "outputs": [],
   "source": [
    "blb = trn_path/'bacterial_leaf_blight'\n",
    "blb.ls()"
   ]
  },
  {
   "cell_type": "code",
   "execution_count": null,
   "id": "52e512dc-9fd6-4246-834f-ff28a17d54d9",
   "metadata": {},
   "outputs": [],
   "source": [
    "df = pd.read_csv(path/'train.csv')\n",
    "df"
   ]
  },
  {
   "cell_type": "code",
   "execution_count": null,
   "id": "78caf890-c8a5-4b2e-a162-b4faaac61197",
   "metadata": {},
   "outputs": [],
   "source": [
    "files = get_image_files(trn_path)\n",
    "files"
   ]
  },
  {
   "cell_type": "code",
   "execution_count": null,
   "id": "6f222a87-cb4a-4dce-8aa0-95373c77e97e",
   "metadata": {},
   "outputs": [],
   "source": [
    "# img = PILImage.create(blb/'100330.jpg')\n",
    "img = PILImage.create(files[0])"
   ]
  },
  {
   "cell_type": "code",
   "execution_count": null,
   "id": "57491bb0-d903-4588-baeb-a07e6bd34fe2",
   "metadata": {},
   "outputs": [],
   "source": [
    "img"
   ]
  },
  {
   "cell_type": "code",
   "execution_count": null,
   "id": "824dcff0-9e70-447b-b498-af3344b1d646",
   "metadata": {},
   "outputs": [],
   "source": [
    "[PILImage.create(o).size for o in files[:10] ]"
   ]
  },
  {
   "cell_type": "code",
   "execution_count": null,
   "id": "5c589e80-5f4b-4f22-b0b9-6eb5b20f9765",
   "metadata": {},
   "outputs": [],
   "source": [
    "df.variety.value_counts()"
   ]
  },
  {
   "cell_type": "code",
   "execution_count": null,
   "id": "27eea58b-22ad-414b-94cd-daf6e2f61aa4",
   "metadata": {},
   "outputs": [],
   "source": [
    "def is_cat(x): return x[0].isupper()"
   ]
  },
  {
   "cell_type": "code",
   "execution_count": null,
   "id": "65fb15e8-9bbc-4a67-848a-ae8c880cae49",
   "metadata": {},
   "outputs": [],
   "source": [
    "dls = ImageDataLoaders.from_folder(trn_path,valid_pct=0.2,seed=42,item_tfms=Resize(224))"
   ]
  },
  {
   "cell_type": "code",
   "execution_count": null,
   "id": "94f531a0-4a9d-4786-bca7-e06147e1222a",
   "metadata": {},
   "outputs": [],
   "source": [
    "dls.show_batch()"
   ]
  },
  {
   "cell_type": "code",
   "execution_count": null,
   "id": "0dc7ef6d-9b3a-48a8-8a00-478279ef9761",
   "metadata": {},
   "outputs": [],
   "source": [
    "learn = vision_learner(dls, resnet34, metrics=error_rate)"
   ]
  },
  {
   "cell_type": "code",
   "execution_count": null,
   "id": "f8866bd9-9a92-4afe-9821-7e11c6c9ad92",
   "metadata": {},
   "outputs": [],
   "source": [
    "learn.fine_tune(1)"
   ]
  },
  {
   "cell_type": "code",
   "execution_count": null,
   "id": "6b7ba1a3-cef7-4add-bc90-a887296b2b66",
   "metadata": {},
   "outputs": [],
   "source": [
    "# learn.fine_tune??\n",
    "# vision_learner??\n"
   ]
  },
  {
   "cell_type": "code",
   "execution_count": null,
   "id": "9660e86a-cbc8-4676-94ae-34f79e420bc7",
   "metadata": {},
   "outputs": [],
   "source": [
    "# %time sizes = [PILImage.create(o).size for o in files]"
   ]
  },
  {
   "cell_type": "code",
   "execution_count": null,
   "id": "230b3c88-a897-4a0a-ad94-3e2e6a8ef27f",
   "metadata": {},
   "outputs": [],
   "source": [
    "# from fastcore.parallel import *"
   ]
  },
  {
   "cell_type": "code",
   "execution_count": null,
   "id": "b999ece3-f7cd-477b-b93a-2859897e512c",
   "metadata": {},
   "outputs": [],
   "source": [
    "doc(parallel)"
   ]
  },
  {
   "cell_type": "code",
   "execution_count": null,
   "id": "54a0662b-5f76-45e0-81e1-261589b99706",
   "metadata": {},
   "outputs": [],
   "source": [
    "def f(o): return PILImage.create(o).size"
   ]
  },
  {
   "cell_type": "code",
   "execution_count": null,
   "id": "e83efbba-af9d-411e-b26e-513bacb6304a",
   "metadata": {},
   "outputs": [],
   "source": [
    "# %time sizes = parallel(f, files, n_workers=4)"
   ]
  },
  {
   "cell_type": "code",
   "execution_count": null,
   "id": "ae24bdec-7bf8-48d1-9abf-0c1320f480d3",
   "metadata": {},
   "outputs": [],
   "source": [
    "# %time sizes = parallel(f, files, n_workers=8)"
   ]
  },
  {
   "cell_type": "code",
   "execution_count": null,
   "id": "6962b67a-f209-43ff-8ee4-310e5bde635c",
   "metadata": {},
   "outputs": [],
   "source": [
    "import huggingface_hub\n",
    "import timm\n",
    "timm.list_models('convnext*')"
   ]
  },
  {
   "cell_type": "code",
   "execution_count": null,
   "id": "69b7ed94-02e6-453a-99a6-f2877cf26896",
   "metadata": {},
   "outputs": [],
   "source": [
    "timm.__version__"
   ]
  },
  {
   "cell_type": "code",
   "execution_count": null,
   "id": "cc3296b3-d7d2-4072-b9c8-e8d4efc6fdfe",
   "metadata": {},
   "outputs": [],
   "source": [
    "learn = vision_learner(dls, 'convnextv2_small', metrics=error_rate, pretrained=False)"
   ]
  },
  {
   "cell_type": "code",
   "execution_count": null,
   "id": "40ef6386-0ca8-4be8-8930-3a617e5b8271",
   "metadata": {},
   "outputs": [],
   "source": [
    "learn.lr_find(suggest_funcs=(minimum, steep, valley, slide))"
   ]
  },
  {
   "cell_type": "code",
   "execution_count": null,
   "id": "5088024f-f3b8-4306-b025-7342e97ac74b",
   "metadata": {},
   "outputs": [],
   "source": [
    "learn.fine_tune(2)"
   ]
  },
  {
   "cell_type": "code",
   "execution_count": null,
   "id": "1de57312-3676-406e-973c-90224fa4e779",
   "metadata": {},
   "outputs": [],
   "source": [
    "doc(dls.test_dl)"
   ]
  },
  {
   "cell_type": "code",
   "execution_count": null,
   "id": "fedebefe-3924-4470-8590-94b8298c5137",
   "metadata": {},
   "outputs": [],
   "source": [
    "tst_files = get_image_files(path/'test_images')\n",
    "tst_files"
   ]
  },
  {
   "cell_type": "code",
   "execution_count": null,
   "id": "d6af53c4-313c-40b2-b0cf-5901f4c8f967",
   "metadata": {},
   "outputs": [],
   "source": [
    "tst_dl = dls.test_dl(tst_files)\n",
    "tst_dl.show_batch()"
   ]
  },
  {
   "cell_type": "code",
   "execution_count": null,
   "id": "1ce03392-22a8-4fa7-86db-f1762f492bbc",
   "metadata": {},
   "outputs": [],
   "source": [
    "learn.get_preds(dl=tst_dl)"
   ]
  },
  {
   "cell_type": "code",
   "execution_count": null,
   "id": "6fb685c6-6bb1-4540-88fc-4a248ebbf6b1",
   "metadata": {},
   "outputs": [],
   "source": [
    "ss = pd.read_csv('sample_submission.csv')"
   ]
  }
 ],
 "metadata": {
  "kernelspec": {
   "display_name": "Python 3 (ipykernel)",
   "language": "python",
   "name": "python3"
  },
  "language_info": {
   "codemirror_mode": {
    "name": "ipython",
    "version": 3
   },
   "file_extension": ".py",
   "mimetype": "text/x-python",
   "name": "python",
   "nbconvert_exporter": "python",
   "pygments_lexer": "ipython3",
   "version": "3.10.10"
  }
 },
 "nbformat": 4,
 "nbformat_minor": 5
}
